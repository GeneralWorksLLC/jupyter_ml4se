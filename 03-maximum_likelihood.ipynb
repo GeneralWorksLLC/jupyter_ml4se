{
 "cells": [
  {
   "cell_type": "markdown",
   "metadata": {},
   "source": [
    "# 第3章 最尤推定法：確率を用いた推定理論"
   ]
  },
  {
   "cell_type": "markdown",
   "metadata": {},
   "source": [
    "## 「03-maximum_likelihood.py」の解説"
   ]
  },
  {
   "cell_type": "markdown",
   "metadata": {},
   "source": [
    "ITエンジニアための機械学習理論入門「第3章 最尤推定法：確率を用いた推定理論」で使用しているサンプルコード「03-maximum_likelihood.py」の解説です。\n",
    "\n",
    "※ 解説用にコードの内容は少し変更しています。"
   ]
  },
  {
   "cell_type": "markdown",
   "metadata": {},
   "source": [
    "はじめに必要なモジュールをインポートしておきます。\n",
    "\n",
    "関数 normal は、正規分布に従う乱数を生成するために利用します。"
   ]
  },
  {
   "cell_type": "code",
   "execution_count": 1,
   "metadata": {
    "collapsed": false
   },
   "outputs": [],
   "source": [
    "%matplotlib inline\n",
    "import numpy as np\n",
    "import matplotlib.pyplot as plt\n",
    "import pandas as pd\n",
    "from pandas import Series, DataFrame\n",
    "\n",
    "from numpy.random import normal"
   ]
  },
  {
   "cell_type": "markdown",
   "metadata": {},
   "source": [
    "正弦関数に正規分布のノイズを載せたデータセットを生成する関数を定義します。\n",
    "\n",
    "これは、0≦x≦1 の区間を等分した num 個の点 x に対して、対応する y の値を生成します。"
   ]
  },
  {
   "cell_type": "code",
   "execution_count": 2,
   "metadata": {
    "collapsed": true
   },
   "outputs": [],
   "source": [
    "# データセット {x_n,y_n} (n=1...num) を用意\n",
    "def create_dataset(num):\n",
    "    dataset = DataFrame(columns=['x','y'])\n",
    "    for i in range(num):\n",
    "        x = float(i)/float(num-1)\n",
    "        y = np.sin(2*np.pi*x) + normal(scale=0.3)\n",
    "        dataset = dataset.append(Series([x,y], index=['x','y']),\n",
    "                                 ignore_index=True)\n",
    "    return dataset"
   ]
  },
  {
   "cell_type": "markdown",
   "metadata": {},
   "source": [
    "例として、10個のデータをトレーニングセットとして生成します。"
   ]
  },
  {
   "cell_type": "code",
   "execution_count": 3,
   "metadata": {
    "collapsed": false
   },
   "outputs": [
    {
     "data": {
      "text/html": [
       "<div>\n",
       "<table border=\"1\" class=\"dataframe\">\n",
       "  <thead>\n",
       "    <tr style=\"text-align: right;\">\n",
       "      <th></th>\n",
       "      <th>x</th>\n",
       "      <th>y</th>\n",
       "    </tr>\n",
       "  </thead>\n",
       "  <tbody>\n",
       "    <tr>\n",
       "      <th>0</th>\n",
       "      <td>0.000000</td>\n",
       "      <td>-0.093786</td>\n",
       "    </tr>\n",
       "    <tr>\n",
       "      <th>1</th>\n",
       "      <td>0.111111</td>\n",
       "      <td>0.645621</td>\n",
       "    </tr>\n",
       "    <tr>\n",
       "      <th>2</th>\n",
       "      <td>0.222222</td>\n",
       "      <td>0.933429</td>\n",
       "    </tr>\n",
       "    <tr>\n",
       "      <th>3</th>\n",
       "      <td>0.333333</td>\n",
       "      <td>0.997118</td>\n",
       "    </tr>\n",
       "    <tr>\n",
       "      <th>4</th>\n",
       "      <td>0.444444</td>\n",
       "      <td>0.901307</td>\n",
       "    </tr>\n",
       "    <tr>\n",
       "      <th>5</th>\n",
       "      <td>0.555556</td>\n",
       "      <td>-0.127239</td>\n",
       "    </tr>\n",
       "    <tr>\n",
       "      <th>6</th>\n",
       "      <td>0.666667</td>\n",
       "      <td>-0.560712</td>\n",
       "    </tr>\n",
       "    <tr>\n",
       "      <th>7</th>\n",
       "      <td>0.777778</td>\n",
       "      <td>-1.173034</td>\n",
       "    </tr>\n",
       "    <tr>\n",
       "      <th>8</th>\n",
       "      <td>0.888889</td>\n",
       "      <td>-0.794911</td>\n",
       "    </tr>\n",
       "    <tr>\n",
       "      <th>9</th>\n",
       "      <td>1.000000</td>\n",
       "      <td>0.046185</td>\n",
       "    </tr>\n",
       "  </tbody>\n",
       "</table>\n",
       "</div>"
      ],
      "text/plain": [
       "          x         y\n",
       "0  0.000000 -0.093786\n",
       "1  0.111111  0.645621\n",
       "2  0.222222  0.933429\n",
       "3  0.333333  0.997118\n",
       "4  0.444444  0.901307\n",
       "5  0.555556 -0.127239\n",
       "6  0.666667 -0.560712\n",
       "7  0.777778 -1.173034\n",
       "8  0.888889 -0.794911\n",
       "9  1.000000  0.046185"
      ]
     },
     "execution_count": 3,
     "metadata": {},
     "output_type": "execute_result"
    }
   ],
   "source": [
    "N=10            # サンプルを取得する位置 x の個数\n",
    "train_set = create_dataset(N)\n",
    "train_set"
   ]
  },
  {
   "cell_type": "markdown",
   "metadata": {},
   "source": [
    "x と y の値のリストは、train_set.x と train_set.y で取得できます。\n",
    "\n",
    "グラフ上にプロットすると次のようになります。"
   ]
  },
  {
   "cell_type": "code",
   "execution_count": 4,
   "metadata": {
    "collapsed": false
   },
   "outputs": [
    {
     "data": {
      "text/plain": [
       "<matplotlib.collections.PathCollection at 0x1c3b8d0>"
      ]
     },
     "execution_count": 4,
     "metadata": {},
     "output_type": "execute_result"
    },
    {
     "data": {
      "image/png": "[encoded data removed]",
      "text/plain": [
       "<matplotlib.figure.Figure at 0x3e1c510>"
      ]
     },
     "metadata": {},
     "output_type": "display_data"
    }
   ],
   "source": [
    "plt.scatter(train_set.x, train_set.y, marker='o', color='blue')"
   ]
  },
  {
   "cell_type": "markdown",
   "metadata": {},
   "source": [
    "このデータに対して、最尤推定法でフィッティングした m 次多項式と標準偏差を決定する関数を用意します。\n",
    "\n",
    "引数 dataset と m にトレーニングセットと多項式の次数を代入すると、多項式に対応する関数 f(x) のオブジェクトと標準偏差の値が返ります。"
   ]
  },
  {
   "cell_type": "code",
   "execution_count": 5,
   "metadata": {
    "collapsed": true
   },
   "outputs": [],
   "source": [
    "def resolve(dataset, m):\n",
    "    t = dataset.y\n",
    "    phi = DataFrame()\n",
    "    for i in range(0,m+1):\n",
    "        p = dataset.x**i\n",
    "        p.name=\"x**%d\" % i\n",
    "        phi = pd.concat([phi,p], axis=1)\n",
    "    tmp = np.linalg.inv(np.dot(phi.T, phi))\n",
    "    ws = np.dot(np.dot(tmp, phi.T), t)\n",
    "\n",
    "    def f(x):\n",
    "        y = 0.0\n",
    "        for i, w in enumerate(ws):\n",
    "            y += w * (x ** i)\n",
    "        return y\n",
    "\n",
    "    sigma2 = 0.0\n",
    "    for index, line in dataset.iterrows():\n",
    "        sigma2 += (f(line.x)-line.y)**2\n",
    "    sigma2 /= len(dataset)\n",
    "\n",
    "    return (f, np.sqrt(sigma2))"
   ]
  },
  {
   "cell_type": "markdown",
   "metadata": {},
   "source": [
    "また、得られた関数 f(x) に対して、トレーニングセットに対する最大対数尤度を求める関数を用意します。"
   ]
  },
  {
   "cell_type": "code",
   "execution_count": 6,
   "metadata": {
    "collapsed": true
   },
   "outputs": [],
   "source": [
    "# 最大対数尤度（Maximum log likelihood）を計算\n",
    "def log_likelihood(dataset, f):\n",
    "    dev = 0.0\n",
    "    n = float(len(dataset))\n",
    "    for index, line in dataset.iterrows():\n",
    "        x, y = line.x, line.y\n",
    "        dev += (y - f(x))**2\n",
    "    err = dev * 0.5\n",
    "    beta = n / dev\n",
    "    lp = -beta*err + 0.5*n*np.log(0.5*beta/np.pi)\n",
    "    return lp"
   ]
  },
  {
   "cell_type": "markdown",
   "metadata": {},
   "source": [
    "これらを用いて、結果をグラフに可視化する関数が次になります。"
   ]
  },
  {
   "cell_type": "code",
   "execution_count": 7,
   "metadata": {
    "collapsed": true
   },
   "outputs": [],
   "source": [
    "def show_result(subplot, train_set, m):\n",
    "    f, sigma = resolve(train_set, m)\n",
    "    subplot.set_xlim(-0.05,1.05)\n",
    "    subplot.set_ylim(-1.5,1.5)\n",
    "    subplot.set_title(\"M=%d\" % m)\n",
    "\n",
    "    # トレーニングセットを表示\n",
    "    subplot.scatter(train_set.x, train_set.y, marker='o',\n",
    "                    color='blue', label=None)\n",
    "\n",
    "    # 真の曲線を表示\n",
    "    linex = np.linspace(0,1,101)\n",
    "    liney = np.sin(2*np.pi*linex)\n",
    "    subplot.plot(linex, liney, color='green', linestyle='--')\n",
    "\n",
    "    # 多項式近似の曲線を表示\n",
    "    linex = np.linspace(0,1,101)\n",
    "    liney = f(linex)\n",
    "    label = \"Sigma=%.2f\" % sigma\n",
    "    subplot.plot(linex, liney, color='red', label=label)\n",
    "    subplot.plot(linex, liney+sigma, color='red', linestyle='--')\n",
    "    subplot.plot(linex, liney-sigma, color='red', linestyle='--')\n",
    "    subplot.legend(loc=1)    "
   ]
  },
  {
   "cell_type": "markdown",
   "metadata": {},
   "source": [
    "先ほど生成したトレーニングセットを用いて、0, 1, 3, 9次多項式（定数関数）でフィッティングした結果を表示します。"
   ]
  },
  {
   "cell_type": "code",
   "execution_count": 8,
   "metadata": {
    "collapsed": false
   },
   "outputs": [
    {
     "data": {
      "image/png": "[encoded data removed]",
      "text/plain": [
       "<matplotlib.figure.Figure at 0x3f47d10>"
      ]
     },
     "metadata": {},
     "output_type": "display_data"
    }
   ],
   "source": [
    "fig = plt.figure(figsize=(8, 6))\n",
    "for i, m in enumerate([0,1,3,9]):\n",
    "    subplot = fig.add_subplot(2,2,i+1)\n",
    "    show_result(subplot, train_set, m)"
   ]
  },
  {
   "cell_type": "markdown",
   "metadata": {},
   "source": [
    "多項式の次数が上がるにつれてデータポイントの近くを通るようになり、標準偏差が減少していることがわかります。"
   ]
  },
  {
   "cell_type": "markdown",
   "metadata": {},
   "source": [
    "ここで、トレーニングセットとテストセットに対する対数尤度の変化を確認します。\n",
    "\n",
    "多項式の次数を0〜9に変化させながら、対数尤度のグラフを描く関数を用意します。（次数が10の場合は、オーバーフィッティングにより対数尤度が無限大に発散します。"
   ]
  },
  {
   "cell_type": "code",
   "execution_count": 9,
   "metadata": {
    "collapsed": true
   },
   "outputs": [],
   "source": [
    "# 多項式近似に対する最大対数尤度を計算\n",
    "def show_loglikelihood_trend(train_set, test_set):\n",
    "    df = DataFrame()\n",
    "    train_mlh = []\n",
    "    test_mlh = []\n",
    "    for m in range(0,9): # 多項式の次数\n",
    "        f, sigma = resolve(train_set, m)\n",
    "        train_mlh.append(log_likelihood(train_set, f))\n",
    "        test_mlh.append(log_likelihood(test_set, f))\n",
    "    df = pd.concat([df,\n",
    "                    DataFrame(train_mlh, columns=['Training set']),\n",
    "                    DataFrame(test_mlh, columns=['Test set'])],\n",
    "                    axis=1)\n",
    "    df.plot(title='Log likelihood for N=%d' % N, grid=True, style=['-','--'])"
   ]
  },
  {
   "cell_type": "markdown",
   "metadata": {},
   "source": [
    "トレーニングセットとは独立に生成したテストセットを用意します。"
   ]
  },
  {
   "cell_type": "code",
   "execution_count": 10,
   "metadata": {
    "collapsed": false
   },
   "outputs": [
    {
     "data": {
      "text/html": [
       "<div>\n",
       "<table border=\"1\" class=\"dataframe\">\n",
       "  <thead>\n",
       "    <tr style=\"text-align: right;\">\n",
       "      <th></th>\n",
       "      <th>x</th>\n",
       "      <th>y</th>\n",
       "    </tr>\n",
       "  </thead>\n",
       "  <tbody>\n",
       "    <tr>\n",
       "      <th>0</th>\n",
       "      <td>0.000000</td>\n",
       "      <td>0.403107</td>\n",
       "    </tr>\n",
       "    <tr>\n",
       "      <th>1</th>\n",
       "      <td>0.111111</td>\n",
       "      <td>0.446357</td>\n",
       "    </tr>\n",
       "    <tr>\n",
       "      <th>2</th>\n",
       "      <td>0.222222</td>\n",
       "      <td>1.527885</td>\n",
       "    </tr>\n",
       "    <tr>\n",
       "      <th>3</th>\n",
       "      <td>0.333333</td>\n",
       "      <td>0.039853</td>\n",
       "    </tr>\n",
       "    <tr>\n",
       "      <th>4</th>\n",
       "      <td>0.444444</td>\n",
       "      <td>0.259396</td>\n",
       "    </tr>\n",
       "    <tr>\n",
       "      <th>5</th>\n",
       "      <td>0.555556</td>\n",
       "      <td>-0.078021</td>\n",
       "    </tr>\n",
       "    <tr>\n",
       "      <th>6</th>\n",
       "      <td>0.666667</td>\n",
       "      <td>-1.146823</td>\n",
       "    </tr>\n",
       "    <tr>\n",
       "      <th>7</th>\n",
       "      <td>0.777778</td>\n",
       "      <td>-1.474442</td>\n",
       "    </tr>\n",
       "    <tr>\n",
       "      <th>8</th>\n",
       "      <td>0.888889</td>\n",
       "      <td>-0.139489</td>\n",
       "    </tr>\n",
       "    <tr>\n",
       "      <th>9</th>\n",
       "      <td>1.000000</td>\n",
       "      <td>-0.128666</td>\n",
       "    </tr>\n",
       "  </tbody>\n",
       "</table>\n",
       "</div>"
      ],
      "text/plain": [
       "          x         y\n",
       "0  0.000000  0.403107\n",
       "1  0.111111  0.446357\n",
       "2  0.222222  1.527885\n",
       "3  0.333333  0.039853\n",
       "4  0.444444  0.259396\n",
       "5  0.555556 -0.078021\n",
       "6  0.666667 -1.146823\n",
       "7  0.777778 -1.474442\n",
       "8  0.888889 -0.139489\n",
       "9  1.000000 -0.128666"
      ]
     },
     "execution_count": 10,
     "metadata": {},
     "output_type": "execute_result"
    }
   ],
   "source": [
    "test_set = create_dataset(N)\n",
    "test_set"
   ]
  },
  {
   "cell_type": "markdown",
   "metadata": {},
   "source": [
    "多項式の次数を0〜9に変化させながら、トレーニングセットとテストセットに対する対数尤度を計算して、結果をグラフ表示します。"
   ]
  },
  {
   "cell_type": "code",
   "execution_count": 11,
   "metadata": {
    "collapsed": false
   },
   "outputs": [
    {
     "data": {
      "image/png": "[encoded data removed]",
      "text/plain": [
       "<matplotlib.figure.Figure at 0x4565150>"
      ]
     },
     "metadata": {},
     "output_type": "display_data"
    }
   ],
   "source": [
    "show_loglikelihood_trend(train_set, test_set)"
   ]
  }
 ],
 "metadata": {
  "kernelspec": {
   "display_name": "Python 2",
   "language": "python",
   "name": "python2"
  },
  "language_info": {
   "codemirror_mode": {
    "name": "ipython",
    "version": 2
   },
   "file_extension": ".py",
   "mimetype": "text/x-python",
   "name": "python",
   "nbconvert_exporter": "python",
   "pygments_lexer": "ipython2",
   "version": "2.7.5"
  }
 },
 "nbformat": 4,
 "nbformat_minor": 0
}
